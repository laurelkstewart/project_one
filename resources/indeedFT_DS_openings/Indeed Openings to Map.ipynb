{
 "cells": [
  {
   "cell_type": "markdown",
   "metadata": {},
   "source": [
    "# Getting Openings from Indeed.com to Map\n",
    "\n",
    "These are openings for full-time data science jobs from March 1 from Indeed.com. We run them through Google's geolocating API to get the data for a heat map"
   ]
  },
  {
   "cell_type": "code",
   "execution_count": 1,
   "metadata": {},
   "outputs": [],
   "source": [
    "# Dependencies\n",
    "import pandas as pd\n",
    "import numpy as np\n",
    "import matplotlib as plt\n",
    "import gmaps\n",
    "\n",
    "import requests\n",
    "import json\n",
    "\n",
    "# Google developer API key\n",
    "from config import gkey"
   ]
  },
  {
   "cell_type": "code",
   "execution_count": 2,
   "metadata": {},
   "outputs": [
    {
     "data": {
      "text/html": [
       "<div>\n",
       "<style scoped>\n",
       "    .dataframe tbody tr th:only-of-type {\n",
       "        vertical-align: middle;\n",
       "    }\n",
       "\n",
       "    .dataframe tbody tr th {\n",
       "        vertical-align: top;\n",
       "    }\n",
       "\n",
       "    .dataframe thead th {\n",
       "        text-align: right;\n",
       "    }\n",
       "</style>\n",
       "<table border=\"1\" class=\"dataframe\">\n",
       "  <thead>\n",
       "    <tr style=\"text-align: right;\">\n",
       "      <th></th>\n",
       "      <th>job_title_name</th>\n",
       "      <th>job_title_company</th>\n",
       "      <th>job_title_city</th>\n",
       "      <th>job_title_state</th>\n",
       "      <th>location</th>\n",
       "    </tr>\n",
       "  </thead>\n",
       "  <tbody>\n",
       "    <tr>\n",
       "      <th>0</th>\n",
       "      <td>Intermediate Data Scientist</td>\n",
       "      <td>Citi</td>\n",
       "      <td>Irving</td>\n",
       "      <td>TX</td>\n",
       "      <td>Irving, TX</td>\n",
       "    </tr>\n",
       "    <tr>\n",
       "      <th>1</th>\n",
       "      <td>Data Science Intern</td>\n",
       "      <td>The Hartford</td>\n",
       "      <td>Charlotte</td>\n",
       "      <td>NC</td>\n",
       "      <td>Charlotte, NC</td>\n",
       "    </tr>\n",
       "    <tr>\n",
       "      <th>2</th>\n",
       "      <td>Intern, Data Science</td>\n",
       "      <td>Vertex Pharmaceuticals</td>\n",
       "      <td>Boston</td>\n",
       "      <td>MA</td>\n",
       "      <td>Boston, MA</td>\n",
       "    </tr>\n",
       "    <tr>\n",
       "      <th>3</th>\n",
       "      <td>Data Science QA Engineer - Conshohocken, PA</td>\n",
       "      <td>RS Energy Group</td>\n",
       "      <td>Conshohocken</td>\n",
       "      <td>PA</td>\n",
       "      <td>Conshohocken, PA</td>\n",
       "    </tr>\n",
       "    <tr>\n",
       "      <th>4</th>\n",
       "      <td>Data Science Summer Intern</td>\n",
       "      <td>Commonwealth Care Alliance</td>\n",
       "      <td>Boston</td>\n",
       "      <td>MA</td>\n",
       "      <td>Boston, MA</td>\n",
       "    </tr>\n",
       "  </tbody>\n",
       "</table>\n",
       "</div>"
      ],
      "text/plain": [
       "                                job_title_name           job_title_company  \\\n",
       "0                  Intermediate Data Scientist                        Citi   \n",
       "1                          Data Science Intern                The Hartford   \n",
       "2                         Intern, Data Science      Vertex Pharmaceuticals   \n",
       "3  Data Science QA Engineer - Conshohocken, PA             RS Energy Group   \n",
       "4                   Data Science Summer Intern  Commonwealth Care Alliance   \n",
       "\n",
       "  job_title_city job_title_state          location  \n",
       "0         Irving              TX        Irving, TX  \n",
       "1      Charlotte              NC     Charlotte, NC  \n",
       "2         Boston              MA        Boston, MA  \n",
       "3   Conshohocken              PA  Conshohocken, PA  \n",
       "4         Boston              MA        Boston, MA  "
      ]
     },
     "execution_count": 2,
     "metadata": {},
     "output_type": "execute_result"
    }
   ],
   "source": [
    "# load in CSV\n",
    "openings_df = pd.read_csv(\"resources/input/entry_level_openings_indeed.csv\")\n",
    "openings_df.head()\n",
    "openings_df['location'] = openings_df['job_title_city'] + \", \"+ openings_df['job_title_state']\n",
    "openings_df.head()"
   ]
  },
  {
   "cell_type": "code",
   "execution_count": 3,
   "metadata": {},
   "outputs": [
    {
     "data": {
      "text/html": [
       "<div>\n",
       "<style scoped>\n",
       "    .dataframe tbody tr th:only-of-type {\n",
       "        vertical-align: middle;\n",
       "    }\n",
       "\n",
       "    .dataframe tbody tr th {\n",
       "        vertical-align: top;\n",
       "    }\n",
       "\n",
       "    .dataframe thead th {\n",
       "        text-align: right;\n",
       "    }\n",
       "</style>\n",
       "<table border=\"1\" class=\"dataframe\">\n",
       "  <thead>\n",
       "    <tr style=\"text-align: right;\">\n",
       "      <th></th>\n",
       "      <th>job_title_name</th>\n",
       "      <th>job_title_company</th>\n",
       "      <th>job_title_city</th>\n",
       "      <th>job_title_state</th>\n",
       "      <th>location</th>\n",
       "    </tr>\n",
       "  </thead>\n",
       "  <tbody>\n",
       "    <tr>\n",
       "      <th>950</th>\n",
       "      <td>Computer Science and Data Science</td>\n",
       "      <td>BGI, LLC</td>\n",
       "      <td>Akron</td>\n",
       "      <td>OH</td>\n",
       "      <td>Akron, OH</td>\n",
       "    </tr>\n",
       "    <tr>\n",
       "      <th>1110</th>\n",
       "      <td>Data Scientist</td>\n",
       "      <td>VoiceGlance</td>\n",
       "      <td>Albany</td>\n",
       "      <td>NY</td>\n",
       "      <td>Albany, NY</td>\n",
       "    </tr>\n",
       "    <tr>\n",
       "      <th>511</th>\n",
       "      <td>Data Research &amp; Entry Analyst</td>\n",
       "      <td>First Light Fiber</td>\n",
       "      <td>Albany</td>\n",
       "      <td>NY</td>\n",
       "      <td>Albany, NY</td>\n",
       "    </tr>\n",
       "    <tr>\n",
       "      <th>773</th>\n",
       "      <td>Summer Internship/Data Science</td>\n",
       "      <td>Systems Planning and Analysis</td>\n",
       "      <td>Alexandria</td>\n",
       "      <td>VA</td>\n",
       "      <td>Alexandria, VA</td>\n",
       "    </tr>\n",
       "    <tr>\n",
       "      <th>848</th>\n",
       "      <td>Summer Internship/Data Science</td>\n",
       "      <td>Systems Planning and Analysis</td>\n",
       "      <td>Alexandria</td>\n",
       "      <td>VA</td>\n",
       "      <td>Alexandria, VA</td>\n",
       "    </tr>\n",
       "  </tbody>\n",
       "</table>\n",
       "</div>"
      ],
      "text/plain": [
       "                         job_title_name              job_title_company  \\\n",
       "950   Computer Science and Data Science                       BGI, LLC   \n",
       "1110                     Data Scientist                    VoiceGlance   \n",
       "511       Data Research & Entry Analyst              First Light Fiber   \n",
       "773      Summer Internship/Data Science  Systems Planning and Analysis   \n",
       "848      Summer Internship/Data Science  Systems Planning and Analysis   \n",
       "\n",
       "     job_title_city job_title_state        location  \n",
       "950           Akron              OH       Akron, OH  \n",
       "1110         Albany              NY      Albany, NY  \n",
       "511          Albany              NY      Albany, NY  \n",
       "773      Alexandria              VA  Alexandria, VA  \n",
       "848      Alexandria              VA  Alexandria, VA  "
      ]
     },
     "execution_count": 3,
     "metadata": {},
     "output_type": "execute_result"
    }
   ],
   "source": [
    "#sort by city\n",
    "by_city_df = openings_df.sort_values(by=['location'])\n",
    "by_city_df.head()\n",
    "# remove \"united states\"\n",
    "by_city_df = by_city_df[by_city_df.job_title_city != \"United States\"]\n",
    "by_city_df.head()"
   ]
  },
  {
   "cell_type": "code",
   "execution_count": 4,
   "metadata": {},
   "outputs": [],
   "source": [
    "# get top states\n",
    "state_counts = by_city_df['job_title_state'].value_counts()\n",
    "state_counts.head(10)\n",
    "\n",
    "#make it a df\n",
    "\n",
    "state_counts_df = state_counts.rename_axis('state').reset_index(name='openings')\n",
    "\n",
    "state_counts_df.head()\n",
    "\n",
    "#send it to .CSV\n",
    "\n",
    "output_states = state_counts_df.to_csv('state_openings.csv', index = None, header=True)"
   ]
  },
  {
   "cell_type": "code",
   "execution_count": 5,
   "metadata": {},
   "outputs": [
    {
     "data": {
      "text/plain": [
       "New York, NY         169\n",
       "Boston, MA           158\n",
       "Charlotte, NC        106\n",
       "Philadelphia, PA     102\n",
       "Irving, TX           101\n",
       "Yakima, WA            99\n",
       "San Francisco, CA     60\n",
       "Arlington, VA         48\n",
       "Chicago, IL           31\n",
       "Conshohocken, PA      23\n",
       "Name: location, dtype: int64"
      ]
     },
     "execution_count": 5,
     "metadata": {},
     "output_type": "execute_result"
    }
   ],
   "source": [
    "# get top cities\n",
    "city_counts = by_city_df['location'].value_counts()\n",
    "city_counts.head(10)\n"
   ]
  },
  {
   "cell_type": "code",
   "execution_count": 6,
   "metadata": {},
   "outputs": [
    {
     "data": {
      "text/html": [
       "<div>\n",
       "<style scoped>\n",
       "    .dataframe tbody tr th:only-of-type {\n",
       "        vertical-align: middle;\n",
       "    }\n",
       "\n",
       "    .dataframe tbody tr th {\n",
       "        vertical-align: top;\n",
       "    }\n",
       "\n",
       "    .dataframe thead th {\n",
       "        text-align: right;\n",
       "    }\n",
       "</style>\n",
       "<table border=\"1\" class=\"dataframe\">\n",
       "  <thead>\n",
       "    <tr style=\"text-align: right;\">\n",
       "      <th></th>\n",
       "      <th>city</th>\n",
       "      <th>openings</th>\n",
       "    </tr>\n",
       "  </thead>\n",
       "  <tbody>\n",
       "    <tr>\n",
       "      <th>0</th>\n",
       "      <td>New York, NY</td>\n",
       "      <td>169</td>\n",
       "    </tr>\n",
       "    <tr>\n",
       "      <th>1</th>\n",
       "      <td>Boston, MA</td>\n",
       "      <td>158</td>\n",
       "    </tr>\n",
       "    <tr>\n",
       "      <th>2</th>\n",
       "      <td>Charlotte, NC</td>\n",
       "      <td>106</td>\n",
       "    </tr>\n",
       "    <tr>\n",
       "      <th>3</th>\n",
       "      <td>Philadelphia, PA</td>\n",
       "      <td>102</td>\n",
       "    </tr>\n",
       "    <tr>\n",
       "      <th>4</th>\n",
       "      <td>Irving, TX</td>\n",
       "      <td>101</td>\n",
       "    </tr>\n",
       "  </tbody>\n",
       "</table>\n",
       "</div>"
      ],
      "text/plain": [
       "               city  openings\n",
       "0      New York, NY       169\n",
       "1        Boston, MA       158\n",
       "2     Charlotte, NC       106\n",
       "3  Philadelphia, PA       102\n",
       "4        Irving, TX       101"
      ]
     },
     "execution_count": 6,
     "metadata": {},
     "output_type": "execute_result"
    }
   ],
   "source": [
    "# make a df from the counts\n",
    "city_counts_df = city_counts.rename_axis('city').reset_index(name='openings')\n",
    "\n",
    "city_counts_df.head()\n"
   ]
  },
  {
   "cell_type": "code",
   "execution_count": 7,
   "metadata": {},
   "outputs": [],
   "source": [
    "city_lat = []\n",
    "city_long = []\n",
    "city_state = []\n",
    "\n",
    "#loop through df and get array of lat and long\n",
    "\n",
    "for index, row in city_counts_df.iterrows():\n",
    "    target_city = row[\"city\"]\n",
    "    target_url = ('https://maps.googleapis.com/maps/api/geocode/json?'\n",
    "    'address={0}&key={1}').format(target_city, gkey)\n",
    "    \n",
    "    # Run a request to endpoint and convert result to json\n",
    "    geo_data = requests.get(target_url).json()\n",
    "    \n",
    "    #append the lat and long to array\n",
    "    city_lat.append(geo_data[\"results\"][0][\"geometry\"][\"location\"][\"lat\"])\n",
    "    city_long.append(geo_data[\"results\"][0][\"geometry\"][\"location\"][\"lng\"])\n",
    "    city_state.append(geo_data[\"results\"][0][\"address_components\"][2][\"long_name\"])\n",
    "    \n",
    "   "
   ]
  },
  {
   "cell_type": "code",
   "execution_count": 26,
   "metadata": {},
   "outputs": [
    {
     "data": {
      "text/plain": [
       "283"
      ]
     },
     "execution_count": 26,
     "metadata": {},
     "output_type": "execute_result"
    }
   ],
   "source": [
    "len(city_long)"
   ]
  },
  {
   "cell_type": "code",
   "execution_count": 27,
   "metadata": {},
   "outputs": [
    {
     "data": {
      "text/plain": [
       "283"
      ]
     },
     "execution_count": 27,
     "metadata": {},
     "output_type": "execute_result"
    }
   ],
   "source": [
    "len(city_lat)"
   ]
  },
  {
   "cell_type": "code",
   "execution_count": 28,
   "metadata": {},
   "outputs": [
    {
     "data": {
      "text/plain": [
       "283"
      ]
     },
     "execution_count": 28,
     "metadata": {},
     "output_type": "execute_result"
    }
   ],
   "source": [
    "len(city_counts_df)"
   ]
  },
  {
   "cell_type": "code",
   "execution_count": 29,
   "metadata": {},
   "outputs": [],
   "source": [
    "city_counts_df['lat'] = city_lat\n",
    "city_counts_df['long'] = city_long\n",
    "city_counts_df['g_metro'] = city_state\n",
    "city_counts_df['state_1'] = city_counts_df.city.str[-2]+city_counts_df.city.str[-1]"
   ]
  },
  {
   "cell_type": "code",
   "execution_count": 30,
   "metadata": {},
   "outputs": [
    {
     "data": {
      "text/html": [
       "<div>\n",
       "<style scoped>\n",
       "    .dataframe tbody tr th:only-of-type {\n",
       "        vertical-align: middle;\n",
       "    }\n",
       "\n",
       "    .dataframe tbody tr th {\n",
       "        vertical-align: top;\n",
       "    }\n",
       "\n",
       "    .dataframe thead th {\n",
       "        text-align: right;\n",
       "    }\n",
       "</style>\n",
       "<table border=\"1\" class=\"dataframe\">\n",
       "  <thead>\n",
       "    <tr style=\"text-align: right;\">\n",
       "      <th></th>\n",
       "      <th>city</th>\n",
       "      <th>openings</th>\n",
       "      <th>lat</th>\n",
       "      <th>long</th>\n",
       "      <th>g_metro</th>\n",
       "      <th>state_1</th>\n",
       "    </tr>\n",
       "  </thead>\n",
       "  <tbody>\n",
       "    <tr>\n",
       "      <th>0</th>\n",
       "      <td>New York, NY</td>\n",
       "      <td>169</td>\n",
       "      <td>40.712775</td>\n",
       "      <td>-74.005973</td>\n",
       "      <td>United States</td>\n",
       "      <td>NY</td>\n",
       "    </tr>\n",
       "    <tr>\n",
       "      <th>1</th>\n",
       "      <td>Boston, MA</td>\n",
       "      <td>158</td>\n",
       "      <td>42.360082</td>\n",
       "      <td>-71.058880</td>\n",
       "      <td>Massachusetts</td>\n",
       "      <td>MA</td>\n",
       "    </tr>\n",
       "    <tr>\n",
       "      <th>2</th>\n",
       "      <td>Charlotte, NC</td>\n",
       "      <td>106</td>\n",
       "      <td>35.227087</td>\n",
       "      <td>-80.843127</td>\n",
       "      <td>Mecklenburg County</td>\n",
       "      <td>NC</td>\n",
       "    </tr>\n",
       "    <tr>\n",
       "      <th>3</th>\n",
       "      <td>Philadelphia, PA</td>\n",
       "      <td>102</td>\n",
       "      <td>39.952584</td>\n",
       "      <td>-75.165222</td>\n",
       "      <td>Pennsylvania</td>\n",
       "      <td>PA</td>\n",
       "    </tr>\n",
       "    <tr>\n",
       "      <th>4</th>\n",
       "      <td>Irving, TX</td>\n",
       "      <td>101</td>\n",
       "      <td>32.814018</td>\n",
       "      <td>-96.948894</td>\n",
       "      <td>Texas</td>\n",
       "      <td>TX</td>\n",
       "    </tr>\n",
       "  </tbody>\n",
       "</table>\n",
       "</div>"
      ],
      "text/plain": [
       "               city  openings        lat       long             g_metro  \\\n",
       "0      New York, NY       169  40.712775 -74.005973       United States   \n",
       "1        Boston, MA       158  42.360082 -71.058880       Massachusetts   \n",
       "2     Charlotte, NC       106  35.227087 -80.843127  Mecklenburg County   \n",
       "3  Philadelphia, PA       102  39.952584 -75.165222        Pennsylvania   \n",
       "4        Irving, TX       101  32.814018 -96.948894               Texas   \n",
       "\n",
       "  state_1  \n",
       "0      NY  \n",
       "1      MA  \n",
       "2      NC  \n",
       "3      PA  \n",
       "4      TX  "
      ]
     },
     "execution_count": 30,
     "metadata": {},
     "output_type": "execute_result"
    }
   ],
   "source": [
    "city_counts_df.head()"
   ]
  },
  {
   "cell_type": "code",
   "execution_count": 31,
   "metadata": {},
   "outputs": [
    {
     "data": {
      "text/plain": [
       "Index(['city', 'openings', 'lat', 'long', 'g_metro', 'state_1'], dtype='object')"
      ]
     },
     "execution_count": 31,
     "metadata": {},
     "output_type": "execute_result"
    }
   ],
   "source": [
    "city_counts_df.columns"
   ]
  },
  {
   "cell_type": "code",
   "execution_count": 44,
   "metadata": {},
   "outputs": [],
   "source": [
    "# save this so I don't have to keep hitting Google \n",
    "\n",
    "city_counts_df.to_csv(\"resources/output/indeed_ds_city_openings_to_heatmap.csv\")"
   ]
  },
  {
   "cell_type": "code",
   "execution_count": null,
   "metadata": {},
   "outputs": [],
   "source": []
  }
 ],
 "metadata": {
  "kernelspec": {
   "display_name": "Python 3",
   "language": "python",
   "name": "python3"
  },
  "language_info": {
   "codemirror_mode": {
    "name": "ipython",
    "version": 3
   },
   "file_extension": ".py",
   "mimetype": "text/x-python",
   "name": "python",
   "nbconvert_exporter": "python",
   "pygments_lexer": "ipython3",
   "version": "3.7.1"
  }
 },
 "nbformat": 4,
 "nbformat_minor": 2
}
