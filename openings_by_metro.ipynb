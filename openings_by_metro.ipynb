{
 "cells": [
  {
   "cell_type": "markdown",
   "metadata": {},
   "source": [
    "# Distance Between 2 Cities Using the Haversine Formula"
   ]
  },
  {
   "cell_type": "markdown",
   "metadata": {},
   "source": [
    "### Initialize Data Frames"
   ]
  },
  {
   "cell_type": "code",
   "execution_count": 92,
   "metadata": {},
   "outputs": [],
   "source": [
    "# Imports Dependencies\n",
    "import pandas as pd\n",
    "import numpy as np\n",
    "import requests\n",
    "import json"
   ]
  },
  {
   "cell_type": "markdown",
   "metadata": {},
   "source": [
    "### Define Function to Calculate Distance Between Cities"
   ]
  },
  {
   "cell_type": "code",
   "execution_count": 66,
   "metadata": {},
   "outputs": [],
   "source": [
    "def gc_dist_np(lat1, lon1, lat2, lon2):\n",
    "    \"\"\"\n",
    "    Using the Haversine Formula and presuming a spherical Earth with radius R this function  \n",
    "        calculates the great circle distance (elevation not taken into account) between two points.\n",
    "\n",
    "    Note: this method is not extremely accurate at short distances (<10km)\n",
    "    \n",
    "    Attributes:\n",
    "        lat1 - Latitude of city 1\n",
    "        lon1 - Longitude of city 1\n",
    "        lat2 - Latitude of city 2\n",
    "        lon2 - Longitude of city 2\n",
    "        \n",
    "    Returns:\n",
    "        Distance in miles\n",
    "    \"\"\"\n",
    "    R = 3956 # Approximate radius of the earth in statute miles\n",
    "    \n",
    "    lat1, lon1, lat2, lon2 = np.radians([lat1, lon1, lat2, lon2])\n",
    "    a = np.sin((lat2-lat1)/2.0)**2 + np.cos(lat1) * np.cos(lat2) * np.sin((lon2-lon1)/2.0)**2\n",
    "    c = 2 * np.arcsin(np.sqrt(a)) # great circle distance in radians\n",
    "\n",
    "    return R * c"
   ]
  },
  {
   "cell_type": "code",
   "execution_count": 67,
   "metadata": {},
   "outputs": [],
   "source": [
    "openings_df = pd.read_table('openings_by_city_lat_long.csv', sep=',')"
   ]
  },
  {
   "cell_type": "code",
   "execution_count": 68,
   "metadata": {},
   "outputs": [],
   "source": [
    "openings_df.drop(['Unnamed: 0'], axis=1, inplace=True)\n",
    "openings_df.rename(columns={\"long\": \"lon\"}, inplace=True)"
   ]
  },
  {
   "cell_type": "code",
   "execution_count": 69,
   "metadata": {},
   "outputs": [],
   "source": [
    "city_state_df = openings_df['city'].str.split(\", \", n = 1, expand = True)\n",
    "openings_df['city'] = city_state_df[0]\n",
    "openings_df['state'] = city_state_df[1]"
   ]
  },
  {
   "cell_type": "code",
   "execution_count": 70,
   "metadata": {},
   "outputs": [],
   "source": [
    "openings_df = openings_df[['city', 'state', 'openings', 'lat', 'lon']]"
   ]
  },
  {
   "cell_type": "code",
   "execution_count": 71,
   "metadata": {},
   "outputs": [],
   "source": [
    "openings_df.sort_values(by=['state', 'lat'], inplace=True)"
   ]
  },
  {
   "cell_type": "code",
   "execution_count": 72,
   "metadata": {
    "scrolled": true
   },
   "outputs": [
    {
     "data": {
      "text/html": [
       "<div>\n",
       "<style scoped>\n",
       "    .dataframe tbody tr th:only-of-type {\n",
       "        vertical-align: middle;\n",
       "    }\n",
       "\n",
       "    .dataframe tbody tr th {\n",
       "        vertical-align: top;\n",
       "    }\n",
       "\n",
       "    .dataframe thead th {\n",
       "        text-align: right;\n",
       "    }\n",
       "</style>\n",
       "<table border=\"1\" class=\"dataframe\">\n",
       "  <thead>\n",
       "    <tr style=\"text-align: right;\">\n",
       "      <th></th>\n",
       "      <th>city</th>\n",
       "      <th>state</th>\n",
       "      <th>openings</th>\n",
       "      <th>lat</th>\n",
       "      <th>lon</th>\n",
       "    </tr>\n",
       "  </thead>\n",
       "  <tbody>\n",
       "    <tr>\n",
       "      <th>280</th>\n",
       "      <td>Birmingham</td>\n",
       "      <td>AL</td>\n",
       "      <td>1</td>\n",
       "      <td>33.518589</td>\n",
       "      <td>-86.810357</td>\n",
       "    </tr>\n",
       "    <tr>\n",
       "      <th>75</th>\n",
       "      <td>Huntsville</td>\n",
       "      <td>AL</td>\n",
       "      <td>3</td>\n",
       "      <td>34.730369</td>\n",
       "      <td>-86.586104</td>\n",
       "    </tr>\n",
       "    <tr>\n",
       "      <th>243</th>\n",
       "      <td>Little Rock</td>\n",
       "      <td>AR</td>\n",
       "      <td>1</td>\n",
       "      <td>34.746481</td>\n",
       "      <td>-92.289595</td>\n",
       "    </tr>\n",
       "    <tr>\n",
       "      <th>72</th>\n",
       "      <td>Conway</td>\n",
       "      <td>AR</td>\n",
       "      <td>3</td>\n",
       "      <td>35.088696</td>\n",
       "      <td>-92.442101</td>\n",
       "    </tr>\n",
       "    <tr>\n",
       "      <th>207</th>\n",
       "      <td>Fort Huachuca</td>\n",
       "      <td>AZ</td>\n",
       "      <td>1</td>\n",
       "      <td>31.555216</td>\n",
       "      <td>-110.349922</td>\n",
       "    </tr>\n",
       "  </tbody>\n",
       "</table>\n",
       "</div>"
      ],
      "text/plain": [
       "              city state  openings        lat         lon\n",
       "280     Birmingham    AL         1  33.518589  -86.810357\n",
       "75      Huntsville    AL         3  34.730369  -86.586104\n",
       "243    Little Rock    AR         1  34.746481  -92.289595\n",
       "72          Conway    AR         3  35.088696  -92.442101\n",
       "207  Fort Huachuca    AZ         1  31.555216 -110.349922"
      ]
     },
     "execution_count": 72,
     "metadata": {},
     "output_type": "execute_result"
    }
   ],
   "source": [
    "openings_df.head()"
   ]
  },
  {
   "cell_type": "code",
   "execution_count": 73,
   "metadata": {},
   "outputs": [],
   "source": [
    "openings_df['dist (m)'] = gc_dist_np(openings_df.lat, \\\n",
    "                            openings_df.lon, \\\n",
    "                            openings_df.lat.shift(), \\\n",
    "                            openings_df.lon.shift())"
   ]
  },
  {
   "cell_type": "code",
   "execution_count": 74,
   "metadata": {},
   "outputs": [
    {
     "data": {
      "text/html": [
       "<div>\n",
       "<style scoped>\n",
       "    .dataframe tbody tr th:only-of-type {\n",
       "        vertical-align: middle;\n",
       "    }\n",
       "\n",
       "    .dataframe tbody tr th {\n",
       "        vertical-align: top;\n",
       "    }\n",
       "\n",
       "    .dataframe thead th {\n",
       "        text-align: right;\n",
       "    }\n",
       "</style>\n",
       "<table border=\"1\" class=\"dataframe\">\n",
       "  <thead>\n",
       "    <tr style=\"text-align: right;\">\n",
       "      <th></th>\n",
       "      <th>city</th>\n",
       "      <th>state</th>\n",
       "      <th>openings</th>\n",
       "      <th>lat</th>\n",
       "      <th>lon</th>\n",
       "      <th>dist (m)</th>\n",
       "    </tr>\n",
       "  </thead>\n",
       "  <tbody>\n",
       "    <tr>\n",
       "      <th>280</th>\n",
       "      <td>Birmingham</td>\n",
       "      <td>AL</td>\n",
       "      <td>1</td>\n",
       "      <td>33.518589</td>\n",
       "      <td>-86.810357</td>\n",
       "      <td>NaN</td>\n",
       "    </tr>\n",
       "    <tr>\n",
       "      <th>75</th>\n",
       "      <td>Huntsville</td>\n",
       "      <td>AL</td>\n",
       "      <td>3</td>\n",
       "      <td>34.730369</td>\n",
       "      <td>-86.586104</td>\n",
       "      <td>84.643629</td>\n",
       "    </tr>\n",
       "    <tr>\n",
       "      <th>243</th>\n",
       "      <td>Little Rock</td>\n",
       "      <td>AR</td>\n",
       "      <td>1</td>\n",
       "      <td>34.746481</td>\n",
       "      <td>-92.289595</td>\n",
       "      <td>323.567439</td>\n",
       "    </tr>\n",
       "    <tr>\n",
       "      <th>72</th>\n",
       "      <td>Conway</td>\n",
       "      <td>AR</td>\n",
       "      <td>3</td>\n",
       "      <td>35.088696</td>\n",
       "      <td>-92.442101</td>\n",
       "      <td>25.156460</td>\n",
       "    </tr>\n",
       "    <tr>\n",
       "      <th>207</th>\n",
       "      <td>Fort Huachuca</td>\n",
       "      <td>AZ</td>\n",
       "      <td>1</td>\n",
       "      <td>31.555216</td>\n",
       "      <td>-110.349922</td>\n",
       "      <td>1059.977704</td>\n",
       "    </tr>\n",
       "    <tr>\n",
       "      <th>56</th>\n",
       "      <td>Tempe</td>\n",
       "      <td>AZ</td>\n",
       "      <td>3</td>\n",
       "      <td>33.425510</td>\n",
       "      <td>-111.940005</td>\n",
       "      <td>158.900808</td>\n",
       "    </tr>\n",
       "    <tr>\n",
       "      <th>20</th>\n",
       "      <td>Phoenix</td>\n",
       "      <td>AZ</td>\n",
       "      <td>11</td>\n",
       "      <td>33.448377</td>\n",
       "      <td>-112.074037</td>\n",
       "      <td>7.882354</td>\n",
       "    </tr>\n",
       "    <tr>\n",
       "      <th>31</th>\n",
       "      <td>San Diego</td>\n",
       "      <td>CA</td>\n",
       "      <td>6</td>\n",
       "      <td>32.715738</td>\n",
       "      <td>-117.161084</td>\n",
       "      <td>298.580131</td>\n",
       "    </tr>\n",
       "    <tr>\n",
       "      <th>131</th>\n",
       "      <td>Poway</td>\n",
       "      <td>CA</td>\n",
       "      <td>2</td>\n",
       "      <td>32.962823</td>\n",
       "      <td>-117.035865</td>\n",
       "      <td>18.542197</td>\n",
       "    </tr>\n",
       "    <tr>\n",
       "      <th>45</th>\n",
       "      <td>Carlsbad</td>\n",
       "      <td>CA</td>\n",
       "      <td>4</td>\n",
       "      <td>33.158093</td>\n",
       "      <td>-117.350594</td>\n",
       "      <td>22.659723</td>\n",
       "    </tr>\n",
       "    <tr>\n",
       "      <th>134</th>\n",
       "      <td>Aliso Viejo</td>\n",
       "      <td>CA</td>\n",
       "      <td>1</td>\n",
       "      <td>33.568461</td>\n",
       "      <td>-117.726298</td>\n",
       "      <td>35.667943</td>\n",
       "    </tr>\n",
       "    <tr>\n",
       "      <th>111</th>\n",
       "      <td>Newport Beach</td>\n",
       "      <td>CA</td>\n",
       "      <td>2</td>\n",
       "      <td>33.618883</td>\n",
       "      <td>-117.929849</td>\n",
       "      <td>12.213621</td>\n",
       "    </tr>\n",
       "    <tr>\n",
       "      <th>130</th>\n",
       "      <td>Costa Mesa</td>\n",
       "      <td>CA</td>\n",
       "      <td>2</td>\n",
       "      <td>33.641216</td>\n",
       "      <td>-117.918822</td>\n",
       "      <td>1.667197</td>\n",
       "    </tr>\n",
       "    <tr>\n",
       "      <th>27</th>\n",
       "      <td>Irvine</td>\n",
       "      <td>CA</td>\n",
       "      <td>7</td>\n",
       "      <td>33.684567</td>\n",
       "      <td>-117.826505</td>\n",
       "      <td>6.091365</td>\n",
       "    </tr>\n",
       "    <tr>\n",
       "      <th>277</th>\n",
       "      <td>Westminster</td>\n",
       "      <td>CA</td>\n",
       "      <td>1</td>\n",
       "      <td>33.759176</td>\n",
       "      <td>-117.989706</td>\n",
       "      <td>10.694668</td>\n",
       "    </tr>\n",
       "    <tr>\n",
       "      <th>268</th>\n",
       "      <td>Garden Grove</td>\n",
       "      <td>CA</td>\n",
       "      <td>1</td>\n",
       "      <td>33.774269</td>\n",
       "      <td>-117.937995</td>\n",
       "      <td>3.145713</td>\n",
       "    </tr>\n",
       "    <tr>\n",
       "      <th>189</th>\n",
       "      <td>Orange</td>\n",
       "      <td>CA</td>\n",
       "      <td>1</td>\n",
       "      <td>33.787914</td>\n",
       "      <td>-117.853101</td>\n",
       "      <td>4.962193</td>\n",
       "    </tr>\n",
       "    <tr>\n",
       "      <th>215</th>\n",
       "      <td>Buena Park</td>\n",
       "      <td>CA</td>\n",
       "      <td>1</td>\n",
       "      <td>33.867404</td>\n",
       "      <td>-117.998139</td>\n",
       "      <td>9.966327</td>\n",
       "    </tr>\n",
       "    <tr>\n",
       "      <th>258</th>\n",
       "      <td>Venice</td>\n",
       "      <td>CA</td>\n",
       "      <td>1</td>\n",
       "      <td>33.985047</td>\n",
       "      <td>-118.469483</td>\n",
       "      <td>28.198837</td>\n",
       "    </tr>\n",
       "    <tr>\n",
       "      <th>102</th>\n",
       "      <td>Santa Monica</td>\n",
       "      <td>CA</td>\n",
       "      <td>2</td>\n",
       "      <td>34.019454</td>\n",
       "      <td>-118.491191</td>\n",
       "      <td>2.680996</td>\n",
       "    </tr>\n",
       "  </tbody>\n",
       "</table>\n",
       "</div>"
      ],
      "text/plain": [
       "              city state  openings        lat         lon     dist (m)\n",
       "280     Birmingham    AL         1  33.518589  -86.810357          NaN\n",
       "75      Huntsville    AL         3  34.730369  -86.586104    84.643629\n",
       "243    Little Rock    AR         1  34.746481  -92.289595   323.567439\n",
       "72          Conway    AR         3  35.088696  -92.442101    25.156460\n",
       "207  Fort Huachuca    AZ         1  31.555216 -110.349922  1059.977704\n",
       "56           Tempe    AZ         3  33.425510 -111.940005   158.900808\n",
       "20         Phoenix    AZ        11  33.448377 -112.074037     7.882354\n",
       "31       San Diego    CA         6  32.715738 -117.161084   298.580131\n",
       "131          Poway    CA         2  32.962823 -117.035865    18.542197\n",
       "45        Carlsbad    CA         4  33.158093 -117.350594    22.659723\n",
       "134    Aliso Viejo    CA         1  33.568461 -117.726298    35.667943\n",
       "111  Newport Beach    CA         2  33.618883 -117.929849    12.213621\n",
       "130     Costa Mesa    CA         2  33.641216 -117.918822     1.667197\n",
       "27          Irvine    CA         7  33.684567 -117.826505     6.091365\n",
       "277    Westminster    CA         1  33.759176 -117.989706    10.694668\n",
       "268   Garden Grove    CA         1  33.774269 -117.937995     3.145713\n",
       "189         Orange    CA         1  33.787914 -117.853101     4.962193\n",
       "215     Buena Park    CA         1  33.867404 -117.998139     9.966327\n",
       "258         Venice    CA         1  33.985047 -118.469483    28.198837\n",
       "102   Santa Monica    CA         2  34.019454 -118.491191     2.680996"
      ]
     },
     "execution_count": 74,
     "metadata": {},
     "output_type": "execute_result"
    }
   ],
   "source": [
    "openings_df.head(20)"
   ]
  },
  {
   "cell_type": "code",
   "execution_count": 78,
   "metadata": {
    "scrolled": true
   },
   "outputs": [],
   "source": [
    "# distance_bins = [0, 50]\n",
    "# group_names = ['metro']\n",
    "# city_lat_long_df['distance_bins'] = pd.cut(city_lat_long_df['dist'], distance_bins, labels = group_names)\n",
    "# city_lat_long_df"
   ]
  },
  {
   "cell_type": "code",
   "execution_count": 79,
   "metadata": {},
   "outputs": [
    {
     "data": {
      "text/html": [
       "<div>\n",
       "<style scoped>\n",
       "    .dataframe tbody tr th:only-of-type {\n",
       "        vertical-align: middle;\n",
       "    }\n",
       "\n",
       "    .dataframe tbody tr th {\n",
       "        vertical-align: top;\n",
       "    }\n",
       "\n",
       "    .dataframe thead th {\n",
       "        text-align: right;\n",
       "    }\n",
       "</style>\n",
       "<table border=\"1\" class=\"dataframe\">\n",
       "  <thead>\n",
       "    <tr style=\"text-align: right;\">\n",
       "      <th></th>\n",
       "      <th>city</th>\n",
       "      <th>state</th>\n",
       "      <th>openings</th>\n",
       "      <th>lat</th>\n",
       "      <th>lon</th>\n",
       "      <th>dist (m)</th>\n",
       "    </tr>\n",
       "  </thead>\n",
       "  <tbody>\n",
       "    <tr>\n",
       "      <th>72</th>\n",
       "      <td>Conway</td>\n",
       "      <td>AR</td>\n",
       "      <td>3</td>\n",
       "      <td>35.088696</td>\n",
       "      <td>-92.442101</td>\n",
       "      <td>25.156460</td>\n",
       "    </tr>\n",
       "    <tr>\n",
       "      <th>20</th>\n",
       "      <td>Phoenix</td>\n",
       "      <td>AZ</td>\n",
       "      <td>11</td>\n",
       "      <td>33.448377</td>\n",
       "      <td>-112.074037</td>\n",
       "      <td>7.882354</td>\n",
       "    </tr>\n",
       "    <tr>\n",
       "      <th>131</th>\n",
       "      <td>Poway</td>\n",
       "      <td>CA</td>\n",
       "      <td>2</td>\n",
       "      <td>32.962823</td>\n",
       "      <td>-117.035865</td>\n",
       "      <td>18.542197</td>\n",
       "    </tr>\n",
       "    <tr>\n",
       "      <th>45</th>\n",
       "      <td>Carlsbad</td>\n",
       "      <td>CA</td>\n",
       "      <td>4</td>\n",
       "      <td>33.158093</td>\n",
       "      <td>-117.350594</td>\n",
       "      <td>22.659723</td>\n",
       "    </tr>\n",
       "    <tr>\n",
       "      <th>134</th>\n",
       "      <td>Aliso Viejo</td>\n",
       "      <td>CA</td>\n",
       "      <td>1</td>\n",
       "      <td>33.568461</td>\n",
       "      <td>-117.726298</td>\n",
       "      <td>35.667943</td>\n",
       "    </tr>\n",
       "  </tbody>\n",
       "</table>\n",
       "</div>"
      ],
      "text/plain": [
       "            city state  openings        lat         lon   dist (m)\n",
       "72        Conway    AR         3  35.088696  -92.442101  25.156460\n",
       "20       Phoenix    AZ        11  33.448377 -112.074037   7.882354\n",
       "131        Poway    CA         2  32.962823 -117.035865  18.542197\n",
       "45      Carlsbad    CA         4  33.158093 -117.350594  22.659723\n",
       "134  Aliso Viejo    CA         1  33.568461 -117.726298  35.667943"
      ]
     },
     "execution_count": 79,
     "metadata": {},
     "output_type": "execute_result"
    }
   ],
   "source": [
    "metro_area = openings_df.loc[openings_df['dist (m)'] <= 50] # ['math_score'].count()\n",
    "metro_area.head()"
   ]
  },
  {
   "cell_type": "code",
   "execution_count": 84,
   "metadata": {},
   "outputs": [
    {
     "name": "stdout",
     "output_type": "stream",
     "text": [
      "                       city state  openings        lat         lon    dist (m)\n",
      "31                San Diego    CA         6  32.715738 -117.161084  298.580131\n",
      "131                   Poway    CA         2  32.962823 -117.035865   18.542197\n",
      "45                 Carlsbad    CA         4  33.158093 -117.350594   22.659723\n",
      "134             Aliso Viejo    CA         1  33.568461 -117.726298   35.667943\n",
      "111           Newport Beach    CA         2  33.618883 -117.929849   12.213621\n",
      "130              Costa Mesa    CA         2  33.641216 -117.918822    1.667197\n",
      "27                   Irvine    CA         7  33.684567 -117.826505    6.091365\n",
      "277             Westminster    CA         1  33.759176 -117.989706   10.694668\n",
      "268            Garden Grove    CA         1  33.774269 -117.937995    3.145713\n",
      "189                  Orange    CA         1  33.787914 -117.853101    4.962193\n",
      "215              Buena Park    CA         1  33.867404 -117.998139    9.966327\n",
      "258                  Venice    CA         1  33.985047 -118.469483   28.198837\n",
      "102            Santa Monica    CA         2  34.019454 -118.491191    2.680996\n",
      "87              Culver City    CA         2  34.021122 -118.396467    5.422073\n",
      "16              Los Angeles    CA        12  34.052234 -118.243685    9.001672\n",
      "239                Redlands    CA         1  34.055569 -117.182538   60.702789\n",
      "95                 Glendale    CA         2  34.142508 -118.255075   61.614309\n",
      "55                 Pasadena    CA         3  34.147785 -118.144515    6.328210\n",
      "174          Woodland Hills    CA         1  34.165357 -118.608975   26.564772\n",
      "43            Thousand Oaks    CA         4  34.170561 -118.837594   13.065378\n",
      "51            Santa Barbara    CA         4  34.420831 -119.698190   52.041666\n",
      "122         San Luis Obispo    CA         2  35.282752 -120.659616   80.678429\n",
      "21       Santa Clara Valley    CA        10  37.248848 -121.839959  150.812855\n",
      "241                Campbell    CA         1  37.287165 -121.949957    6.597701\n",
      "18                 San Jose    CA        11  37.338208 -121.886329    4.962794\n",
      "22              Santa Clara    CA         9  37.354108 -121.955236    3.938395\n",
      "15                Sunnyvale    CA        13  37.368830 -122.036350    4.566017\n",
      "26            Mountain View    CA         7  37.386052 -122.083851    2.864704\n",
      "114                Stanford    CA         2  37.424106 -122.166076    5.219334\n",
      "33                 Milpitas    CA         6  37.432334 -121.899574   14.623279\n",
      "12                Palo Alto    CA        17  37.441883 -122.143020   13.362768\n",
      "39               Menlo Park    CA         5  37.452960 -122.181725    2.255309\n",
      "50             Redwood City    CA         4  37.485215 -122.236355    3.731236\n",
      "202              San Carlos    CA         1  37.507159 -122.260522    2.012034\n",
      "166                  Newark    CA         1  37.529659 -122.040240   12.163103\n",
      "38                San Mateo    CA         5  37.562992 -122.325525   15.786115\n",
      "144              Burlingame    CA         1  37.577870 -122.348090    1.606275\n",
      "41                San Bruno    CA         4  37.630490 -122.411083    5.007367\n",
      "49                Livermore    CA         4  37.681874 -121.768009   35.330571\n",
      "240                  Dublin    CA         1  37.702152 -121.935792    9.273306\n",
      "245             San Leandro    CA         1  37.724930 -122.156077   12.134359\n",
      "6             San Francisco    CA        60  37.774929 -122.419415   14.785234\n",
      "63                  Oakland    CA         3  37.804364 -122.271114    8.343252\n",
      "237  San Francisco Bay Area    CA         1  37.827178 -122.291308    1.922151\n",
      "257              Emeryville    CA         1  37.831316 -122.285247    0.436863\n",
      "109                Berkeley    CA         2  37.871593 -122.272747    2.863194\n",
      "205                Hercules    CA         1  38.017144 -122.288581   10.086549\n",
      "141              Santa Rosa    CA         1  38.440429 -122.714055   37.238221\n",
      "64               Sacramento    CA         3  38.581572 -121.494400   66.610635\n",
      "162                   Chico    CA         1  39.728494 -121.837478   81.291760\n"
     ]
    }
   ],
   "source": [
    "x=openings_df.groupby('state')\n",
    "print(x.get_group('CA'))"
   ]
  },
  {
   "cell_type": "code",
   "execution_count": 99,
   "metadata": {},
   "outputs": [],
   "source": [
    "json = requests.get('https://public.opendatasoft.com/api/records/1.0/search/?dataset=1000-largest-us-cities-by-population-with-geographic-coordinates&facet=city&facet=state').json()\n",
    "   "
   ]
  },
  {
   "cell_type": "code",
   "execution_count": 119,
   "metadata": {},
   "outputs": [
    {
     "name": "stdout",
     "output_type": "stream",
     "text": [
      "South San Francisco\n",
      "Aliso Viejo\n",
      "Rapid City\n",
      "Coon Rapids\n",
      "Malden\n",
      "Noblesville\n",
      "Delray Beach\n",
      "Wellington\n",
      "Florissant\n",
      "Youngstown\n"
     ]
    }
   ],
   "source": [
    "for i in range(0, 10, 1):\n",
    "    if json['records'][i]['fields']['city'] != \"Chico\":\n",
    "        print(json['records'][i]['fields']['city'])"
   ]
  },
  {
   "cell_type": "markdown",
   "metadata": {},
   "source": [
    "# District Summary"
   ]
  },
  {
   "cell_type": "markdown",
   "metadata": {},
   "source": [
    "### Calculate District Summary Values"
   ]
  },
  {
   "cell_type": "code",
   "execution_count": null,
   "metadata": {},
   "outputs": [],
   "source": [
    "# Calculate number of schools in District\n",
    "district_schools_count = len(school_data.school_name.unique())\n",
    "\n",
    "# Calculate total student count in District\n",
    "district_student_total = student_data.student_name.count()\n",
    "\n",
    "# Calculate total district budget\n",
    "district_budget = school_data.budget.sum()\n",
    "\n",
    "# Calculate average math and reading scores throught District\n",
    "district_avg_math = student_data.math_score.mean()\n",
    "district_avg_reading = student_data.reading_score.mean()\n",
    "\n",
    "# Calculate percentage of students who scored 70% or better\n",
    "district_pass_math = student_data.loc[student_data['math_score'] >= 70]['math_score'].count()\n",
    "district_pass_math_percent = (district_pass_math / district_student_total) * 100\n",
    "\n",
    "district_pass_reading = student_data.loc[student_data['reading_score'] >= 70]['reading_score'].count()\n",
    "district_pass_reading_percent = (district_pass_reading / district_student_total) * 100\n",
    "\n",
    "# Calculate the average test score across the District\n",
    "district_overall_pass_percent = (district_avg_math + district_avg_reading) / 2"
   ]
  },
  {
   "cell_type": "markdown",
   "metadata": {},
   "source": [
    "### Display District Summary"
   ]
  },
  {
   "cell_type": "code",
   "execution_count": null,
   "metadata": {},
   "outputs": [],
   "source": [
    "# Build dict to store District summary data calculated above\n",
    "district_summary = pd.DataFrame({    \n",
    "    'Total Schools': [district_schools_count],\n",
    "    'Total Students': [district_student_total],\n",
    "    'Total Budget': [district_budget],\n",
    "    'Average Math Score': [district_avg_math],\n",
    "    'Average Reading Score': [district_avg_math],\n",
    "    '% Passing Math': [district_pass_math_percent],\n",
    "    '% Passing Reading':[district_pass_reading_percent],\n",
    "    '% Overall Passing Rate': [district_overall_pass_percent]})\n",
    "\n",
    "# Display District summary data to terminal\n",
    "district_summary"
   ]
  },
  {
   "cell_type": "markdown",
   "metadata": {},
   "source": [
    "# School Summary"
   ]
  },
  {
   "cell_type": "markdown",
   "metadata": {},
   "source": [
    "### Calculate School Summary Values"
   ]
  },
  {
   "cell_type": "code",
   "execution_count": null,
   "metadata": {},
   "outputs": [],
   "source": [
    "# Group merged dataframe by school name & set dataframe index to school name\n",
    "grouped_by_school = school_data_complete.set_index('school_name').groupby('school_name')\n",
    "\n",
    "# Determine School types\n",
    "school_types = school_data.set_index('school_name')['type']\n",
    "\n",
    "# Calculate students per School\n",
    "school_student_count = grouped_by_school['Student ID'].count()\n",
    "\n",
    "# Determine each Schools budget\n",
    "school_budget = school_data.set_index('school_name')['budget']\n",
    "\n",
    "# Calculate budget per student\n",
    "school_budget_per_student = school_data.set_index('school_name')['budget'] /\\\n",
    "                            school_data.set_index('school_name')['size']\n",
    "\n",
    "# Calculate average math & reading scores by School\n",
    "school_avg_math = grouped_by_school['math_score'].mean()\n",
    "school_avg_reading = grouped_by_school['reading_score'].mean()\n",
    "\n",
    "# Calculate percent math & reading passing rates by School\n",
    "school_pass_math_percent = school_data_complete[school_data_complete['math_score'] >= 70].groupby \\\n",
    "                        ('school_name')['Student ID'].count() / school_student_count * 100\n",
    "\n",
    "school_pass_reading_percent = school_data_complete[school_data_complete['reading_score'] >= 70].groupby \\\n",
    "                        ('school_name')['Student ID'].count() / school_student_count * 100\n",
    "\n",
    "# Calculate overall passing rate by School\n",
    "school_pass_overall_percent = (school_pass_math_percent + school_pass_reading_percent) / 2"
   ]
  },
  {
   "cell_type": "markdown",
   "metadata": {},
   "source": [
    "### Display School Summary"
   ]
  },
  {
   "cell_type": "code",
   "execution_count": null,
   "metadata": {},
   "outputs": [],
   "source": [
    "# Build dict to store School summary data calculated above\n",
    "school_summary = pd.DataFrame({\n",
    "    'School Type': school_types,\n",
    "    'Total Students': school_student_count,\n",
    "    'Total School Budget': school_budget,\n",
    "    'Per Student Budget': school_budget_per_student,\n",
    "    'Average Math Score': school_avg_math,\n",
    "    'Average Reading Score': school_avg_reading,\n",
    "    '% Passing Math': school_pass_math_percent,\n",
    "    '% Passing Reading': school_pass_reading_percent,\n",
    "    'Overall Passing Rate': school_pass_overall_percent})\n",
    "\n",
    "# Display District summary data to terminal\n",
    "school_summary"
   ]
  },
  {
   "cell_type": "markdown",
   "metadata": {},
   "source": [
    "# Top Performing Schools by Overall Passing Rate"
   ]
  },
  {
   "cell_type": "code",
   "execution_count": null,
   "metadata": {},
   "outputs": [],
   "source": [
    "# Sort School summary dataframe created above on 'Overall Passing Rate' in descending order\n",
    "school_summary_sorted_desc = school_summary.sort_values('Overall Passing Rate', ascending=False)"
   ]
  },
  {
   "cell_type": "code",
   "execution_count": null,
   "metadata": {},
   "outputs": [],
   "source": [
    "# Display top 5 rows of School summary sorted above\n",
    "school_summary_sorted_desc.head(5)"
   ]
  },
  {
   "cell_type": "markdown",
   "metadata": {},
   "source": [
    "# Bottom Performing Schools by Overall Passing Rate"
   ]
  },
  {
   "cell_type": "code",
   "execution_count": null,
   "metadata": {},
   "outputs": [],
   "source": [
    "# Determine the bottom performing 5 Schools by 'Overall Passing Rate' still in descending order & reverse order\n",
    "bottom_schools_sorted_desc = school_summary_sorted_desc.tail(5)\n",
    "bottom_schools_sorted_asc = bottom_schools_sorted_desc.sort_values('Overall Passing Rate')"
   ]
  },
  {
   "cell_type": "code",
   "execution_count": null,
   "metadata": {},
   "outputs": [],
   "source": [
    "# Display bottom 5 rows of School summary (re)sorted above\n",
    "bottom_schools_sorted_asc"
   ]
  },
  {
   "cell_type": "markdown",
   "metadata": {},
   "source": [
    "# Average Math Scores by Grade"
   ]
  },
  {
   "cell_type": "code",
   "execution_count": null,
   "metadata": {},
   "outputs": [],
   "source": [
    "# Determine Math scores for each grade by school\n",
    "grade_09_math = student_data.loc[student_data['grade'] == '9th'].groupby('school_name')['math_score'].mean()\n",
    "grade_10_math = student_data.loc[student_data['grade'] == '10th'].groupby('school_name')['math_score'].mean()\n",
    "grade_11_math = student_data.loc[student_data['grade'] == '11th'].groupby('school_name')['math_score'].mean()\n",
    "grade_12_math = student_data.loc[student_data['grade'] == '12th'].groupby('school_name')['math_score'].mean()"
   ]
  },
  {
   "cell_type": "code",
   "execution_count": null,
   "metadata": {},
   "outputs": [],
   "source": [
    "# Build dict to store average math score summary data calculated above\n",
    "avg_math_score_by_grade = pd.DataFrame({\n",
    "                        '9th': grade_09_math,\n",
    "                        '10th': grade_10_math,\n",
    "                        '11th': grade_11_math,\n",
    "                        '12th': grade_12_math})\n",
    "\n",
    "# Print index header\n",
    "avg_math_score_by_grade.index.name = 'School Name'\n",
    "\n",
    "# Display average math score by grade data to terminal\n",
    "avg_math_score_by_grade"
   ]
  },
  {
   "cell_type": "markdown",
   "metadata": {},
   "source": [
    "# Average Reading Scores by Grade"
   ]
  },
  {
   "cell_type": "code",
   "execution_count": null,
   "metadata": {},
   "outputs": [],
   "source": [
    "# Determine Reading scores for each grade by school\n",
    "grade_09_reading = student_data.loc[student_data['grade'] == '9th'].groupby('school_name')['reading_score'].mean()\n",
    "grade_10_reading = student_data.loc[student_data['grade'] == '10th'].groupby('school_name')['reading_score'].mean()\n",
    "grade_11_reading = student_data.loc[student_data['grade'] == '11th'].groupby('school_name')['reading_score'].mean()\n",
    "grade_12_reading = student_data.loc[student_data['grade'] == '12th'].groupby('school_name')['reading_score'].mean()"
   ]
  },
  {
   "cell_type": "code",
   "execution_count": null,
   "metadata": {},
   "outputs": [],
   "source": [
    "# Build dict to store average Reading score summary data calculated above\n",
    "avg_reading_score_by_grade = pd.DataFrame({\n",
    "                        '9th': grade_09_reading,\n",
    "                        '10th': grade_10_reading,\n",
    "                        '11th': grade_11_reading,\n",
    "                        '12th': grade_12_reading})\n",
    "\n",
    "# Print index header\n",
    "avg_reading_score_by_grade.index.name = 'School Name'\n",
    "\n",
    "# Display average reading score by grade data to terminal\n",
    "avg_reading_score_by_grade"
   ]
  },
  {
   "cell_type": "markdown",
   "metadata": {},
   "source": [
    "# Scores by School Spending"
   ]
  },
  {
   "cell_type": "code",
   "execution_count": null,
   "metadata": {},
   "outputs": [],
   "source": [
    "# Spending bins and group names given in starter code\n",
    "spending_bins = [0, 585, 615, 645, 675]\n",
    "group_names = ['< $585', '$585 - 615', '$615 - 644', '$645-675']\n",
    "\n",
    "# Add another series to the combined dataframe created above\n",
    "school_data_complete['spending_bins'] = pd.cut(school_data_complete['budget']/\\\n",
    "                        school_data_complete['size'], spending_bins, labels = group_names)\n",
    "\n",
    "# Group updated dataframe by spending bins added above\n",
    "complete_grouped_by_spending = school_data_complete.groupby('spending_bins')"
   ]
  },
  {
   "cell_type": "markdown",
   "metadata": {},
   "source": [
    "### Calculate School Spending Summary Data"
   ]
  },
  {
   "cell_type": "code",
   "execution_count": null,
   "metadata": {},
   "outputs": [],
   "source": [
    "# Calculate average math & reading score by spending bin\n",
    "average_math_score_by_spend = complete_grouped_by_spending['math_score'].mean()\n",
    "average_reading_score_by_spend = complete_grouped_by_spending['reading_score'].mean()\n",
    "\n",
    "# Calculate students with passing math grades by spend\n",
    "passing_math_percent_by_spend = school_data_complete[school_data_complete['math_score'] >= 70]\\\n",
    "                        .groupby('spending_bins')['Student ID'].count() / \\\n",
    "                        complete_grouped_by_spending['Student ID'].count() * 100\n",
    "\n",
    "# Calculate students with passing reading grades by spend\n",
    "passing_reading_percent_by_spend = school_data_complete[school_data_complete['reading_score'] >= 70]\\\n",
    "                            .groupby('spending_bins')['Student ID'].count() / \\\n",
    "                            complete_grouped_by_spending['Student ID'].count() * 100\n",
    "\n",
    "# Calculate overall passing percentage by spend\n",
    "overall_percent_by_spend = (passing_math_percent_by_spend + passing_reading_percent_by_spend) / 2"
   ]
  },
  {
   "cell_type": "markdown",
   "metadata": {},
   "source": [
    "### Display School Spending Summary Data"
   ]
  },
  {
   "cell_type": "code",
   "execution_count": null,
   "metadata": {},
   "outputs": [],
   "source": [
    "# Build dict to store school spending summary data calculated above\n",
    "scores_by_school_spending = pd.DataFrame({\n",
    "    'Average Math Score': average_math_score_by_spend,\n",
    "    'Average Reading Score': average_reading_score_by_spend,\n",
    "    '% Passing Math': passing_math_percent_by_spend,\n",
    "    '% Passing Reading': passing_reading_percent_by_spend,\n",
    "    'Overall Passing Rate': overall_percent_by_spend})\n",
    "\n",
    "# Print index header\n",
    "scores_by_school_spending.index.name = 'Spending per Student'\n",
    "scores_by_school_spending = scores_by_school_spending.reindex(group_names)\n",
    "\n",
    "# Display data to terminal\n",
    "scores_by_school_spending"
   ]
  },
  {
   "cell_type": "markdown",
   "metadata": {},
   "source": [
    "# Scores by School Size"
   ]
  },
  {
   "cell_type": "code",
   "execution_count": null,
   "metadata": {},
   "outputs": [],
   "source": [
    "# Spending bins and group names given in starter code\n",
    "size_bins = [0, 1000, 2000, 5000]\n",
    "group_names = ['Small (<1000)', 'Medium(1000-2000)', 'Large(2000-5000)']\n",
    "\n",
    "# Add another series to the combined dataframe created above\n",
    "school_data_complete['size_bins'] = pd.cut(school_data_complete['size'], \\\n",
    "                                    size_bins, labels = group_names)\n",
    "\n",
    "# Group updated dataframe by spending bins added above\n",
    "complete_grouped_by_size = school_data_complete.groupby('size_bins')"
   ]
  },
  {
   "cell_type": "markdown",
   "metadata": {},
   "source": [
    "### Calculate Score by School Size Summary Data"
   ]
  },
  {
   "cell_type": "code",
   "execution_count": null,
   "metadata": {},
   "outputs": [],
   "source": [
    "# Calculate average math & reading score by spending bin\n",
    "average_math_score_by_size = complete_grouped_by_size['math_score'].mean()\n",
    "average_reading_score_by_size = complete_grouped_by_size['reading_score'].mean()\n",
    "\n",
    "# Calculate students with passing math grades by spend\n",
    "passing_math_percent_by_size = school_data_complete[school_data_complete['math_score'] >= 70]\\\n",
    "                        .groupby('size_bins')['Student ID'].count() / \\\n",
    "                        complete_grouped_by_size['Student ID'].count() * 100\n",
    "\n",
    "# Calculate students with passing reading grades by spend\n",
    "passing_reading_percent_by_size = school_data_complete[school_data_complete['reading_score'] >= 70]\\\n",
    "                            .groupby('size_bins')['Student ID'].count() / \\\n",
    "                            complete_grouped_by_size['Student ID'].count() * 100\n",
    "\n",
    "# Calculate overall passing percentage by spend\n",
    "overall_percent_by_size = (passing_math_percent_by_size + passing_reading_percent_by_size) / 2"
   ]
  },
  {
   "cell_type": "markdown",
   "metadata": {},
   "source": [
    "### Display Score by School Size Summary Data"
   ]
  },
  {
   "cell_type": "code",
   "execution_count": null,
   "metadata": {},
   "outputs": [],
   "source": [
    "# Build dict to store school spending summary data calculated above\n",
    "scores_by_school_size = pd.DataFrame({\n",
    "    'Average Math Score': average_math_score_by_size,\n",
    "    'Average Reading Score': average_reading_score_by_size,\n",
    "    '% Passing Math': passing_math_percent_by_size,\n",
    "    '% Passing Reading': passing_reading_percent_by_size,\n",
    "    'Overall Passing Rate': overall_percent_by_size})\n",
    "\n",
    "# Print index header\n",
    "scores_by_school_size.index.name = 'School Size'\n",
    "scores_by_school_size = scores_by_school_size.reindex(group_names)\n",
    "\n",
    "# Display data to terminal\n",
    "scores_by_school_size"
   ]
  },
  {
   "cell_type": "markdown",
   "metadata": {},
   "source": [
    "# Scores by School Type"
   ]
  },
  {
   "cell_type": "code",
   "execution_count": null,
   "metadata": {},
   "outputs": [],
   "source": [
    "# Group update dataframe by spending bins added above\n",
    "complete_grouped_by_type = school_data_complete.groupby('type')"
   ]
  },
  {
   "cell_type": "markdown",
   "metadata": {},
   "source": [
    "### Calculate Score by School Type Summary Data"
   ]
  },
  {
   "cell_type": "code",
   "execution_count": null,
   "metadata": {},
   "outputs": [],
   "source": [
    "# Calculate average math & reading score by spending bin\n",
    "average_math_score_by_type = complete_grouped_by_type['math_score'].mean()\n",
    "average_reading_score_by_type = complete_grouped_by_type['reading_score'].mean()\n",
    "\n",
    "# Calculate students with passing math grades by spend\n",
    "passing_math_percent_by_type = school_data_complete[school_data_complete['math_score'] >= 70]\\\n",
    "                        .groupby('type')['Student ID'].count() / \\\n",
    "                        complete_grouped_by_type['Student ID'].count() * 100\n",
    "\n",
    "# Calculate students with passing reading grades by spend\n",
    "passing_reading_percent_by_type = school_data_complete[school_data_complete['reading_score'] >= 70]\\\n",
    "                            .groupby('type')['Student ID'].count() / \\\n",
    "                            complete_grouped_by_type['Student ID'].count() * 100\n",
    "\n",
    "# Calculate overall passing percentage by spend\n",
    "overall_percent_by_type = (passing_math_percent_by_type + passing_reading_percent_by_type) / 2"
   ]
  },
  {
   "cell_type": "markdown",
   "metadata": {},
   "source": [
    "### Display Score by School Type Summary Data"
   ]
  },
  {
   "cell_type": "code",
   "execution_count": null,
   "metadata": {},
   "outputs": [],
   "source": [
    "# Build dict to store school spending summary data calculated above\n",
    "scores_by_school_type = pd.DataFrame({\n",
    "    'Average Math Score': average_math_score_by_type,\n",
    "    'Average Reading Score': average_reading_score_by_type,\n",
    "    '% Passing Math': passing_math_percent_by_type,\n",
    "    '% Passing Reading': passing_reading_percent_by_type,\n",
    "    'Overall Passing Rate': overall_percent_by_type})\n",
    "\n",
    "# Print index header\n",
    "scores_by_school_type.index.name = 'School Type'\n",
    "\n",
    "# Display data to terminal\n",
    "scores_by_school_type"
   ]
  }
 ],
 "metadata": {
  "kernelspec": {
   "display_name": "Python 3",
   "language": "python",
   "name": "python3"
  },
  "language_info": {
   "codemirror_mode": {
    "name": "ipython",
    "version": 3
   },
   "file_extension": ".py",
   "mimetype": "text/x-python",
   "name": "python",
   "nbconvert_exporter": "python",
   "pygments_lexer": "ipython3",
   "version": "3.7.1"
  }
 },
 "nbformat": 4,
 "nbformat_minor": 2
}
